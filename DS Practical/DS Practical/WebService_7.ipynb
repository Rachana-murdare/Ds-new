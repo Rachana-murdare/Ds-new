{
 "cells": [
  {
   "cell_type": "code",
   "execution_count": 1,
   "metadata": {},
   "outputs": [
    {
     "name": "stdout",
     "output_type": "stream",
     "text": [
      "Collecting gensim\n",
      "  Downloading gensim-4.3.3-cp311-cp311-win_amd64.whl.metadata (8.2 kB)\n",
      "Requirement already satisfied: numpy<2.0,>=1.18.5 in c:\\users\\hp\\appdata\\local\\packages\\pythonsoftwarefoundation.python.3.11_qbz5n2kfra8p0\\localcache\\local-packages\\python311\\site-packages (from gensim) (1.26.4)\n",
      "Collecting scipy<1.14.0,>=1.7.0 (from gensim)\n",
      "  Downloading scipy-1.13.1-cp311-cp311-win_amd64.whl.metadata (60 kB)\n",
      "Requirement already satisfied: smart-open>=1.8.1 in c:\\users\\hp\\appdata\\local\\packages\\pythonsoftwarefoundation.python.3.11_qbz5n2kfra8p0\\localcache\\local-packages\\python311\\site-packages (from gensim) (7.0.4)\n",
      "Requirement already satisfied: wrapt in c:\\users\\hp\\appdata\\local\\packages\\pythonsoftwarefoundation.python.3.11_qbz5n2kfra8p0\\localcache\\local-packages\\python311\\site-packages (from smart-open>=1.8.1->gensim) (1.16.0)\n",
      "Downloading gensim-4.3.3-cp311-cp311-win_amd64.whl (24.0 MB)\n",
      "   ---------------------------------------- 0.0/24.0 MB ? eta -:--:--\n",
      "   ---------------------------------------- 0.0/24.0 MB ? eta -:--:--\n",
      "   ---------------------------------------- 0.3/24.0 MB ? eta -:--:--\n",
      "   - -------------------------------------- 0.8/24.0 MB 1.9 MB/s eta 0:00:13\n",
      "   - -------------------------------------- 1.0/24.0 MB 1.5 MB/s eta 0:00:16\n",
      "   - -------------------------------------- 1.0/24.0 MB 1.5 MB/s eta 0:00:16\n",
      "   -- ------------------------------------- 1.3/24.0 MB 1.3 MB/s eta 0:00:18\n",
      "   --- ------------------------------------ 1.8/24.0 MB 1.4 MB/s eta 0:00:16\n",
      "   --- ------------------------------------ 2.4/24.0 MB 1.6 MB/s eta 0:00:14\n",
      "   ----- ---------------------------------- 3.1/24.0 MB 1.9 MB/s eta 0:00:12\n",
      "   ------ --------------------------------- 3.7/24.0 MB 2.0 MB/s eta 0:00:11\n",
      "   ------- -------------------------------- 4.5/24.0 MB 2.1 MB/s eta 0:00:10\n",
      "   -------- ------------------------------- 5.0/24.0 MB 2.2 MB/s eta 0:00:09\n",
      "   --------- ------------------------------ 5.5/24.0 MB 2.2 MB/s eta 0:00:09\n",
      "   ---------- ----------------------------- 6.0/24.0 MB 2.3 MB/s eta 0:00:08\n",
      "   ----------- ---------------------------- 6.8/24.0 MB 2.3 MB/s eta 0:00:08\n",
      "   ------------ --------------------------- 7.6/24.0 MB 2.4 MB/s eta 0:00:07\n",
      "   ------------- -------------------------- 8.4/24.0 MB 2.5 MB/s eta 0:00:07\n",
      "   -------------- ------------------------- 8.9/24.0 MB 2.5 MB/s eta 0:00:06\n",
      "   ---------------- ----------------------- 9.7/24.0 MB 2.6 MB/s eta 0:00:06\n",
      "   ----------------- ---------------------- 10.5/24.0 MB 2.6 MB/s eta 0:00:06\n",
      "   ------------------ --------------------- 11.3/24.0 MB 2.7 MB/s eta 0:00:05\n",
      "   -------------------- ------------------- 12.1/24.0 MB 2.7 MB/s eta 0:00:05\n",
      "   -------------------- ------------------- 12.6/24.0 MB 2.8 MB/s eta 0:00:05\n",
      "   ---------------------- ----------------- 13.6/24.0 MB 2.8 MB/s eta 0:00:04\n",
      "   ------------------------ --------------- 14.4/24.0 MB 2.9 MB/s eta 0:00:04\n",
      "   ------------------------- -------------- 15.2/24.0 MB 2.9 MB/s eta 0:00:04\n",
      "   -------------------------- ------------- 16.0/24.0 MB 3.0 MB/s eta 0:00:03\n",
      "   ---------------------------- ----------- 17.0/24.0 MB 3.0 MB/s eta 0:00:03\n",
      "   ----------------------------- ---------- 17.8/24.0 MB 3.1 MB/s eta 0:00:03\n",
      "   ------------------------------- -------- 18.9/24.0 MB 3.1 MB/s eta 0:00:02\n",
      "   --------------------------------- ------ 19.9/24.0 MB 3.2 MB/s eta 0:00:02\n",
      "   ----------------------------------- ---- 21.2/24.0 MB 3.3 MB/s eta 0:00:01\n",
      "   ------------------------------------- -- 22.3/24.0 MB 3.3 MB/s eta 0:00:01\n",
      "   -------------------------------------- - 23.3/24.0 MB 3.4 MB/s eta 0:00:01\n",
      "   ---------------------------------------- 24.0/24.0 MB 3.4 MB/s eta 0:00:00\n",
      "Downloading scipy-1.13.1-cp311-cp311-win_amd64.whl (46.2 MB)\n",
      "   ---------------------------------------- 0.0/46.2 MB ? eta -:--:--\n",
      "    --------------------------------------- 1.0/46.2 MB 5.6 MB/s eta 0:00:09\n",
      "   -- ------------------------------------- 2.4/46.2 MB 6.1 MB/s eta 0:00:08\n",
      "   -- ------------------------------------- 3.4/46.2 MB 5.3 MB/s eta 0:00:09\n",
      "   --- ------------------------------------ 4.2/46.2 MB 4.9 MB/s eta 0:00:09\n",
      "   ---- ----------------------------------- 4.7/46.2 MB 4.6 MB/s eta 0:00:10\n",
      "   ---- ----------------------------------- 5.5/46.2 MB 4.4 MB/s eta 0:00:10\n",
      "   ----- ---------------------------------- 6.3/46.2 MB 4.3 MB/s eta 0:00:10\n",
      "   ------ --------------------------------- 7.1/46.2 MB 4.2 MB/s eta 0:00:10\n",
      "   ------ --------------------------------- 7.6/46.2 MB 4.0 MB/s eta 0:00:10\n",
      "   ------- -------------------------------- 8.4/46.2 MB 3.9 MB/s eta 0:00:10\n",
      "   ------- -------------------------------- 8.9/46.2 MB 3.9 MB/s eta 0:00:10\n",
      "   -------- ------------------------------- 9.7/46.2 MB 3.8 MB/s eta 0:00:10\n",
      "   --------- ------------------------------ 10.5/46.2 MB 3.8 MB/s eta 0:00:10\n",
      "   --------- ------------------------------ 11.0/46.2 MB 3.7 MB/s eta 0:00:10\n",
      "   ---------- ----------------------------- 11.8/46.2 MB 3.7 MB/s eta 0:00:10\n",
      "   ---------- ----------------------------- 12.6/46.2 MB 3.7 MB/s eta 0:00:10\n",
      "   ----------- ---------------------------- 13.1/46.2 MB 3.6 MB/s eta 0:00:10\n",
      "   ------------ --------------------------- 13.9/46.2 MB 3.6 MB/s eta 0:00:09\n",
      "   ------------ --------------------------- 14.4/46.2 MB 3.6 MB/s eta 0:00:09\n",
      "   ------------- -------------------------- 15.2/46.2 MB 3.6 MB/s eta 0:00:09\n",
      "   ------------- -------------------------- 16.0/46.2 MB 3.6 MB/s eta 0:00:09\n",
      "   -------------- ------------------------- 16.8/46.2 MB 3.6 MB/s eta 0:00:09\n",
      "   --------------- ------------------------ 17.6/46.2 MB 3.6 MB/s eta 0:00:08\n",
      "   --------------- ------------------------ 18.4/46.2 MB 3.6 MB/s eta 0:00:08\n",
      "   ---------------- ----------------------- 18.9/46.2 MB 3.6 MB/s eta 0:00:08\n",
      "   ----------------- ---------------------- 19.7/46.2 MB 3.6 MB/s eta 0:00:08\n",
      "   ----------------- ---------------------- 20.4/46.2 MB 3.6 MB/s eta 0:00:08\n",
      "   ------------------ --------------------- 21.5/46.2 MB 3.6 MB/s eta 0:00:07\n",
      "   ------------------- -------------------- 22.0/46.2 MB 3.6 MB/s eta 0:00:07\n",
      "   ------------------- -------------------- 23.1/46.2 MB 3.6 MB/s eta 0:00:07\n",
      "   -------------------- ------------------- 24.1/46.2 MB 3.7 MB/s eta 0:00:07\n",
      "   --------------------- ------------------ 24.9/46.2 MB 3.7 MB/s eta 0:00:06\n",
      "   ---------------------- ----------------- 25.7/46.2 MB 3.7 MB/s eta 0:00:06\n",
      "   ----------------------- ---------------- 26.7/46.2 MB 3.7 MB/s eta 0:00:06\n",
      "   ----------------------- ---------------- 27.3/46.2 MB 3.7 MB/s eta 0:00:06\n",
      "   ------------------------ --------------- 28.3/46.2 MB 3.7 MB/s eta 0:00:05\n",
      "   ------------------------ --------------- 28.8/46.2 MB 3.7 MB/s eta 0:00:05\n",
      "   ------------------------- -------------- 29.6/46.2 MB 3.7 MB/s eta 0:00:05\n",
      "   -------------------------- ------------- 30.4/46.2 MB 3.7 MB/s eta 0:00:05\n",
      "   -------------------------- ------------- 30.9/46.2 MB 3.7 MB/s eta 0:00:05\n",
      "   --------------------------- ------------ 32.0/46.2 MB 3.7 MB/s eta 0:00:04\n",
      "   ---------------------------- ----------- 32.8/46.2 MB 3.7 MB/s eta 0:00:04\n",
      "   ----------------------------- ---------- 33.6/46.2 MB 3.7 MB/s eta 0:00:04\n",
      "   ----------------------------- ---------- 34.1/46.2 MB 3.7 MB/s eta 0:00:04\n",
      "   ------------------------------ --------- 35.1/46.2 MB 3.7 MB/s eta 0:00:04\n",
      "   ------------------------------ --------- 35.7/46.2 MB 3.7 MB/s eta 0:00:03\n",
      "   ------------------------------- -------- 36.4/46.2 MB 3.7 MB/s eta 0:00:03\n",
      "   -------------------------------- ------- 37.2/46.2 MB 3.7 MB/s eta 0:00:03\n",
      "   -------------------------------- ------- 38.0/46.2 MB 3.7 MB/s eta 0:00:03\n",
      "   --------------------------------- ------ 38.8/46.2 MB 3.7 MB/s eta 0:00:03\n",
      "   ---------------------------------- ----- 39.3/46.2 MB 3.7 MB/s eta 0:00:02\n",
      "   ---------------------------------- ----- 40.1/46.2 MB 3.6 MB/s eta 0:00:02\n",
      "   ----------------------------------- ---- 40.9/46.2 MB 3.6 MB/s eta 0:00:02\n",
      "   ------------------------------------ --- 41.7/46.2 MB 3.7 MB/s eta 0:00:02\n",
      "   ------------------------------------ --- 42.5/46.2 MB 3.7 MB/s eta 0:00:02\n",
      "   ------------------------------------- -- 43.3/46.2 MB 3.6 MB/s eta 0:00:01\n",
      "   -------------------------------------- - 44.0/46.2 MB 3.7 MB/s eta 0:00:01\n",
      "   -------------------------------------- - 44.8/46.2 MB 3.7 MB/s eta 0:00:01\n",
      "   ---------------------------------------  45.6/46.2 MB 3.7 MB/s eta 0:00:01\n",
      "   ---------------------------------------  46.1/46.2 MB 3.7 MB/s eta 0:00:01\n",
      "   ---------------------------------------- 46.2/46.2 MB 3.6 MB/s eta 0:00:00\n",
      "Installing collected packages: scipy, gensim\n",
      "Successfully installed gensim-4.3.3 scipy-1.13.1\n",
      "Note: you may need to restart the kernel to use updated packages.\n"
     ]
    },
    {
     "name": "stderr",
     "output_type": "stream",
     "text": [
      "\n",
      "[notice] A new release of pip is available: 24.2 -> 24.3.1\n",
      "[notice] To update, run: C:\\Users\\HP\\AppData\\Local\\Microsoft\\WindowsApps\\PythonSoftwareFoundation.Python.3.11_qbz5n2kfra8p0\\python.exe -m pip install --upgrade pip\n"
     ]
    }
   ],
   "source": [
    "pip install gensim\n"
   ]
  },
  {
   "cell_type": "code",
   "execution_count": 2,
   "metadata": {},
   "outputs": [
    {
     "name": "stdout",
     "output_type": "stream",
     "text": [
      "Gensim version: 4.3.3\n"
     ]
    }
   ],
   "source": [
    "import gensim\n",
    "print(\"Gensim version:\", gensim.__version__)\n"
   ]
  },
  {
   "cell_type": "code",
   "execution_count": 3,
   "metadata": {},
   "outputs": [
    {
     "name": "stdout",
     "output_type": "stream",
     "text": [
      "Dictionary (Word to ID Mapping):\n",
      "{'allows': 0, 'favorite': 1, 'is': 2, 'language': 3, 'love': 4, 'me': 5, 'my': 6, 'problems': 7, 'programming': 8, 'python': 9, 'real': 10, 'solve': 11, 'to': 12, 'world': 13}\n",
      "\n",
      "Bag of Words Representation:\n",
      "[['allows', 1], ['favorite', 1], ['is', 1], ['language', 1], ['love', 1], ['me', 1], ['my', 1], ['problems', 1], ['programming', 3], ['python', 1], ['real', 1], ['solve', 1], ['to', 1], ['world', 1]]\n"
     ]
    }
   ],
   "source": [
    "from gensim import corpora\n",
    "from gensim.utils import simple_preprocess\n",
    "\n",
    "# Sample text data\n",
    "text_data = [\n",
    "    \"\"\"I love programming.\n",
    "       Python is my favorite programming language.\n",
    "       Programming allows me to solve real-world problems.\"\"\"\n",
    "]\n",
    "\n",
    "# Step 1: Preprocess the text (tokenization, lowercasing, and cleaning)\n",
    "tokenized_text = [simple_preprocess(doc) for doc in text_data]\n",
    "\n",
    "# Step 2: Create a dictionary from the tokenized text\n",
    "bow_dictionary = corpora.Dictionary(tokenized_text)\n",
    "\n",
    "# Step 3: Convert each document into a Bag of Words (BoW) representation\n",
    "bow_corpus = [bow_dictionary.doc2bow(doc) for doc in tokenized_text]\n",
    "\n",
    "# Step 4: Print the dictionary (word to ID mapping)\n",
    "print(\"Dictionary (Word to ID Mapping):\")\n",
    "print(bow_dictionary.token2id)\n",
    "\n",
    "# Step 5: Print the Bag of Words representation\n",
    "print(\"\\nBag of Words Representation:\")\n",
    "for doc in bow_corpus:\n",
    "    print([[bow_dictionary[id], freq] for id, freq in doc])\n"
   ]
  }
 ],
 "metadata": {
  "kernelspec": {
   "display_name": "Python 3",
   "language": "python",
   "name": "python3"
  },
  "language_info": {
   "codemirror_mode": {
    "name": "ipython",
    "version": 3
   },
   "file_extension": ".py",
   "mimetype": "text/x-python",
   "name": "python",
   "nbconvert_exporter": "python",
   "pygments_lexer": "ipython3",
   "version": "3.11.9"
  }
 },
 "nbformat": 4,
 "nbformat_minor": 2
}
